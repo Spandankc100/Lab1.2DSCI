{
 "cells": [
  {
   "cell_type": "code",
   "execution_count": 1,
   "id": "053fa1d2-4e6c-4483-be0e-a891c54e9150",
   "metadata": {},
   "outputs": [],
   "source": [
    "import polars as pl"
   ]
  },
  {
   "cell_type": "code",
   "execution_count": 2,
   "id": "d8562e6e-f6a1-4555-9c32-4a98c96eaa80",
   "metadata": {},
   "outputs": [
    {
     "name": "stdout",
     "output_type": "stream",
     "text": [
      "Requirement already satisfied: pyarrow in c:\\users\\at3571rj\\appdata\\local\\anaconda3\\envs\\polars\\lib\\site-packages (17.0.0)\n",
      "Requirement already satisfied: numpy>=1.16.6 in c:\\users\\at3571rj\\appdata\\local\\anaconda3\\envs\\polars\\lib\\site-packages (from pyarrow) (2.1.0)\n",
      "Note: you may need to restart the kernel to use updated packages.\n"
     ]
    }
   ],
   "source": [
    "pip install pyarrow"
   ]
  },
  {
   "cell_type": "code",
   "execution_count": 10,
   "id": "18eab210-6132-46eb-8b84-3d9ad284785f",
   "metadata": {},
   "outputs": [],
   "source": [
    "\n",
    "health_survey_df = pl.read_csv('./Data/health_survey.csv')\n",
    "reverse_coding_df = pl.read_csv('./Data/ReverseCodingItems.csv')\n",
    "\n"
   ]
  },
  {
   "cell_type": "code",
   "execution_count": 3,
   "id": "b9e9751a-7d05-4a58-bcce-0e13710f4ebf",
   "metadata": {},
   "outputs": [
    {
     "data": {
      "text/html": [
       "<div><style>\n",
       ".dataframe > thead > tr,\n",
       ".dataframe > tbody > tr {\n",
       "  text-align: right;\n",
       "  white-space: pre-wrap;\n",
       "}\n",
       "</style>\n",
       "<small>shape: (5, 3)</small><table border=\"1\" class=\"dataframe\"><thead><tr><th>Respondent_ID</th><th>Question Type</th><th>Recoded Value</th></tr><tr><td>i64</td><td>str</td><td>f64</td></tr></thead><tbody><tr><td>184</td><td>&quot;FF6&quot;</td><td>2.0</td></tr><tr><td>208</td><td>&quot;FF2.3&quot;</td><td>5.0</td></tr><tr><td>55</td><td>&quot;FF1.6&quot;</td><td>4.0</td></tr><tr><td>157</td><td>&quot;FF2.10&quot;</td><td>3.0</td></tr><tr><td>212</td><td>&quot;FF3.2&quot;</td><td>3.0</td></tr></tbody></table></div>"
      ],
      "text/plain": [
       "shape: (5, 3)\n",
       "┌───────────────┬───────────────┬───────────────┐\n",
       "│ Respondent_ID ┆ Question Type ┆ Recoded Value │\n",
       "│ ---           ┆ ---           ┆ ---           │\n",
       "│ i64           ┆ str           ┆ f64           │\n",
       "╞═══════════════╪═══════════════╪═══════════════╡\n",
       "│ 184           ┆ FF6           ┆ 2.0           │\n",
       "│ 208           ┆ FF2.3         ┆ 5.0           │\n",
       "│ 55            ┆ FF1.6         ┆ 4.0           │\n",
       "│ 157           ┆ FF2.10        ┆ 3.0           │\n",
       "│ 212           ┆ FF3.2         ┆ 3.0           │\n",
       "└───────────────┴───────────────┴───────────────┘"
      ]
     },
     "execution_count": 3,
     "metadata": {},
     "output_type": "execute_result"
    }
   ],
   "source": [
    "import polars as pl\n",
    "health_survey_df = pl.read_csv('./Data/health_survey.csv')\n",
    "reverse_coding_df = pl.read_csv('./Data/ReverseCodingItems.csv')\n",
    "health_survey_df = health_survey_df.with_columns(\n",
    "    pl.Series(name=\"Respondent_ID\", values=range(1, health_survey_df.height + 1))\n",
    ")\n",
    "stacked_survey = health_survey_df.unpivot(\n",
    "    index=[\"Respondent_ID\"], \n",
    "    on=[col for col in health_survey_df.columns if col != \"Respondent_ID\"], \n",
    "    variable_name=\"Question\", \n",
    "    value_name=\"Response\"\n",
    ")\n",
    "merged_survey = stacked_survey.join(reverse_coding_df, on=\"Question\", how=\"left\")\n",
    "merged_survey = merged_survey.with_columns(\n",
    "    (pl.col(\"Needs Reverse Coding?\") == \"Yes\").alias(\"Needs Reverse\")\n",
    ")\n",
    "\n",
    "coding_map = {\n",
    "    \"Strongly Disagree\": 1,\n",
    "    \"Somewhat Disagree\": 2,\n",
    "    \"Neither Agree nor Disagree\": 3,\n",
    "    \"Somewhat Agree\": 4,\n",
    "    \"Strongly Agree\": 5\n",
    "}\n",
    "\n",
    "reverse_coding_map = {\n",
    "    \"Strongly Disagree\": 5,\n",
    "    \"Somewhat Disagree\": 4,\n",
    "    \"Neither Agree nor Disagree\": 3,\n",
    "    \"Somewhat Agree\": 2,\n",
    "    \"Strongly Agree\": 1\n",
    "}\n",
    "\n",
    "\n",
    "merged_survey = merged_survey.with_columns([\n",
    "    pl.when(pl.col(\"Response\") == \"Strongly Disagree\").then(1)\n",
    "      .when(pl.col(\"Response\") == \"Somewhat Disagree\").then(2)\n",
    "      .when(pl.col(\"Response\") == \"Neither Agree nor Disagree\").then(3)\n",
    "      .when(pl.col(\"Response\") == \"Somewhat Agree\").then(4)\n",
    "      .when(pl.col(\"Response\") == \"Strongly Agree\").then(5)\n",
    "      .alias(\"Temp Coded Value\"),\n",
    "\n",
    "    pl.when(pl.col(\"Response\") == \"Strongly Disagree\").then(5)\n",
    "      .when(pl.col(\"Response\") == \"Somewhat Disagree\").then(4)\n",
    "      .when(pl.col(\"Response\") == \"Neither Agree nor Disagree\").then(3)\n",
    "      .when(pl.col(\"Response\") == \"Somewhat Agree\").then(2)\n",
    "      .when(pl.col(\"Response\") == \"Strongly Agree\").then(1)\n",
    "      .alias(\"Temp Coded Value (Reversed)\")\n",
    "])\n",
    "\n",
    "\n",
    "merged_survey = merged_survey.with_columns(\n",
    "    pl.when(pl.col(\"Needs Reverse\"))\n",
    "      .then(pl.col(\"Temp Coded Value (Reversed)\"))\n",
    "      .otherwise(pl.col(\"Temp Coded Value\"))\n",
    "      .alias(\"Recoded Value\")\n",
    ")\n",
    "\n",
    "merged_survey = merged_survey.with_columns(\n",
    "    pl.format(\"F{}\", pl.col(\"Question\")).alias(\"Question Type\")\n",
    ")\n",
    "\n",
    "aggregated_data = merged_survey.group_by([\"Respondent_ID\", \"Question Type\"]).agg(\n",
    "    pl.col(\"Recoded Value\").mean()\n",
    ")\n",
    "\n",
    "aggregated_data.head()\n",
    "aggregated_data.write_csv('/mnt/data/health_survey_summary.csv')"
   ]
  },
  {
   "cell_type": "code",
   "execution_count": null,
   "id": "b15f2d63-f2b8-4c6f-a852-afea34b9962e",
   "metadata": {},
   "outputs": [],
   "source": []
  }
 ],
 "metadata": {
  "kernelspec": {
   "display_name": "Python 3 (ipykernel)",
   "language": "python",
   "name": "python3"
  },
  "language_info": {
   "codemirror_mode": {
    "name": "ipython",
    "version": 3
   },
   "file_extension": ".py",
   "mimetype": "text/x-python",
   "name": "python",
   "nbconvert_exporter": "python",
   "pygments_lexer": "ipython3",
   "version": "3.12.5"
  }
 },
 "nbformat": 4,
 "nbformat_minor": 5
}
